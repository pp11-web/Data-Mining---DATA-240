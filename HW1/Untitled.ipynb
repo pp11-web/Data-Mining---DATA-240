{
 "cells": [
  {
   "cell_type": "code",
   "execution_count": 43,
   "id": "45b997a6-da2b-4690-858f-7a0018096893",
   "metadata": {},
   "outputs": [],
   "source": [
    "import pandas as pd\n",
    "import numpy as np\n",
    "from sklearn.metrics.pairwise import cosine_similarity\n",
    "from scipy.spatial.distance import euclidean\n",
    "\n",
    "# Creating the datasets as per the image.\n",
    "data = {\n",
    "    \"Dataset I\": {\n",
    "        \"x\": [10, 8, 13, 9, 11, 14, 6, 4, 12, 7, 5],\n",
    "        \"y\": [8.04, 6.95, 7.58, 8.81, 8.33, 9.96, 7.24, 4.26, 10.84, 4.82, 5.68]\n",
    "    },\n",
    "    \"Dataset II\": {\n",
    "        \"x\": [10, 8, 13, 9, 11, 14, 6, 4, 12, 7, 5],\n",
    "        \"y\": [9.14, 8.14, 8.74, 8.77, 9.26, 8.10, 6.13, 3.10, 9.13, 7.26, 4.74]\n",
    "    },\n",
    "    \"Dataset III\": {\n",
    "        \"x\": [10, 8, 13, 9, 11, 14, 6, 4, 12, 7, 5],\n",
    "        \"y\": [7.46, 6.77, 12.74, 7.11, 7.81, 8.84, 6.08, 5.39, 8.15, 6.42, 5.73]\n",
    "    }\n",
    "}\n",
    "\n",
    "# Convert to DataFrame\n",
    "df1 = pd.DataFrame(data[\"Dataset I\"])\n",
    "df2 = pd.DataFrame(data[\"Dataset II\"])\n",
    "df3 = pd.DataFrame(data[\"Dataset III\"])"
   ]
  },
  {
   "cell_type": "code",
   "execution_count": 44,
   "id": "11ab863d-d426-4f96-bb73-3912eef8a8a8",
   "metadata": {},
   "outputs": [
    {
     "data": {
      "text/html": [
       "<div>\n",
       "<style scoped>\n",
       "    .dataframe tbody tr th:only-of-type {\n",
       "        vertical-align: middle;\n",
       "    }\n",
       "\n",
       "    .dataframe tbody tr th {\n",
       "        vertical-align: top;\n",
       "    }\n",
       "\n",
       "    .dataframe thead th {\n",
       "        text-align: right;\n",
       "    }\n",
       "</style>\n",
       "<table border=\"1\" class=\"dataframe\">\n",
       "  <thead>\n",
       "    <tr style=\"text-align: right;\">\n",
       "      <th></th>\n",
       "      <th>x</th>\n",
       "      <th>y</th>\n",
       "    </tr>\n",
       "  </thead>\n",
       "  <tbody>\n",
       "    <tr>\n",
       "      <th>0</th>\n",
       "      <td>10</td>\n",
       "      <td>8.04</td>\n",
       "    </tr>\n",
       "    <tr>\n",
       "      <th>1</th>\n",
       "      <td>8</td>\n",
       "      <td>6.95</td>\n",
       "    </tr>\n",
       "    <tr>\n",
       "      <th>2</th>\n",
       "      <td>13</td>\n",
       "      <td>7.58</td>\n",
       "    </tr>\n",
       "    <tr>\n",
       "      <th>3</th>\n",
       "      <td>9</td>\n",
       "      <td>8.81</td>\n",
       "    </tr>\n",
       "    <tr>\n",
       "      <th>4</th>\n",
       "      <td>11</td>\n",
       "      <td>8.33</td>\n",
       "    </tr>\n",
       "    <tr>\n",
       "      <th>5</th>\n",
       "      <td>14</td>\n",
       "      <td>9.96</td>\n",
       "    </tr>\n",
       "    <tr>\n",
       "      <th>6</th>\n",
       "      <td>6</td>\n",
       "      <td>7.24</td>\n",
       "    </tr>\n",
       "    <tr>\n",
       "      <th>7</th>\n",
       "      <td>4</td>\n",
       "      <td>4.26</td>\n",
       "    </tr>\n",
       "    <tr>\n",
       "      <th>8</th>\n",
       "      <td>12</td>\n",
       "      <td>10.84</td>\n",
       "    </tr>\n",
       "    <tr>\n",
       "      <th>9</th>\n",
       "      <td>7</td>\n",
       "      <td>4.82</td>\n",
       "    </tr>\n",
       "    <tr>\n",
       "      <th>10</th>\n",
       "      <td>5</td>\n",
       "      <td>5.68</td>\n",
       "    </tr>\n",
       "  </tbody>\n",
       "</table>\n",
       "</div>"
      ],
      "text/plain": [
       "     x      y\n",
       "0   10   8.04\n",
       "1    8   6.95\n",
       "2   13   7.58\n",
       "3    9   8.81\n",
       "4   11   8.33\n",
       "5   14   9.96\n",
       "6    6   7.24\n",
       "7    4   4.26\n",
       "8   12  10.84\n",
       "9    7   4.82\n",
       "10   5   5.68"
      ]
     },
     "execution_count": 44,
     "metadata": {},
     "output_type": "execute_result"
    }
   ],
   "source": [
    "df1 "
   ]
  },
  {
   "cell_type": "code",
   "execution_count": 45,
   "id": "27377421-ad9a-404f-9c4a-922d4171baaa",
   "metadata": {},
   "outputs": [],
   "source": [
    "mean_x1 = df1[\"x\"].mean()\n",
    "mean_y1 = df1[\"y\"].mean()"
   ]
  },
  {
   "cell_type": "code",
   "execution_count": 46,
   "id": "99e17d79-cf6b-42d6-b7c0-468439a48a7c",
   "metadata": {},
   "outputs": [
    {
     "name": "stdout",
     "output_type": "stream",
     "text": [
      "9.0\n"
     ]
    }
   ],
   "source": [
    "print(mean_x1)"
   ]
  },
  {
   "cell_type": "code",
   "execution_count": 47,
   "id": "bde17bfc-b137-4bd5-902a-7570f86ea5cf",
   "metadata": {},
   "outputs": [
    {
     "name": "stdout",
     "output_type": "stream",
     "text": [
      "7.500909090909093\n"
     ]
    }
   ],
   "source": [
    "print(mean_y1)"
   ]
  },
  {
   "cell_type": "code",
   "execution_count": 48,
   "id": "0a0295a4-6174-46c9-9a9b-adef3bc12f08",
   "metadata": {},
   "outputs": [],
   "source": [
    "df1[\"x_minus_mean\"] = df1[\"x\"] - df1[\"x\"].mean()"
   ]
  },
  {
   "cell_type": "code",
   "execution_count": 49,
   "id": "0575b3d1-a8e5-4209-914f-4c15d8a0e752",
   "metadata": {},
   "outputs": [],
   "source": [
    "df1[\"y_minus_mean\"] = df1[\"y\"] - df1[\"y\"].mean()"
   ]
  },
  {
   "cell_type": "code",
   "execution_count": 50,
   "id": "4f00ec20-95f6-4110-8766-a5b0f6abba67",
   "metadata": {},
   "outputs": [],
   "source": [
    "df1[\"x_minus_mean2\"] = (df1[\"x_minus_mean\"]*df1[\"x_minus_mean\"])"
   ]
  },
  {
   "cell_type": "code",
   "execution_count": 51,
   "id": "55ca0b96-53e2-4f63-a4ff-17e79ab3bfbf",
   "metadata": {},
   "outputs": [],
   "source": [
    "df1[\"y_minus_mean2\"] = (df1[\"y_minus_mean\"]*df1[\"y_minus_mean\"])"
   ]
  },
  {
   "cell_type": "code",
   "execution_count": 52,
   "id": "b2b2da73-345b-4f85-9c02-67e11cbbc722",
   "metadata": {},
   "outputs": [
    {
     "data": {
      "text/plain": [
       "110.0"
      ]
     },
     "execution_count": 52,
     "metadata": {},
     "output_type": "execute_result"
    }
   ],
   "source": [
    "df1[\"x_minus_mean2\"].sum()"
   ]
  },
  {
   "cell_type": "code",
   "execution_count": 53,
   "id": "93b1d2b4-0b27-4fa7-9f3a-6fa10b9dd69c",
   "metadata": {},
   "outputs": [
    {
     "data": {
      "text/plain": [
       "41.27269090909091"
      ]
     },
     "execution_count": 53,
     "metadata": {},
     "output_type": "execute_result"
    }
   ],
   "source": [
    "df1[\"y_minus_mean2\"].sum()"
   ]
  },
  {
   "cell_type": "code",
   "execution_count": 54,
   "id": "97db211f-0f80-42c0-822a-750913b1c8bf",
   "metadata": {},
   "outputs": [],
   "source": [
    "df1[\"x-m*y-m\"] = (df1[\"x_minus_mean\"]*df1[\"y_minus_mean\"])"
   ]
  },
  {
   "cell_type": "code",
   "execution_count": 55,
   "id": "40eb711f-2080-4035-9b22-a579266d29cc",
   "metadata": {},
   "outputs": [
    {
     "data": {
      "text/plain": [
       "55.010000000000005"
      ]
     },
     "execution_count": 55,
     "metadata": {},
     "output_type": "execute_result"
    }
   ],
   "source": [
    "df1[\"x-m*y-m\"].sum()"
   ]
  },
  {
   "cell_type": "code",
   "execution_count": 56,
   "id": "87325380",
   "metadata": {},
   "outputs": [
    {
     "data": {
      "text/plain": [
       "11.0"
      ]
     },
     "execution_count": 56,
     "metadata": {},
     "output_type": "execute_result"
    }
   ],
   "source": [
    "df1[\"x\"].var()"
   ]
  },
  {
   "cell_type": "code",
   "execution_count": 57,
   "id": "258aec5c",
   "metadata": {},
   "outputs": [
    {
     "data": {
      "text/plain": [
       "4.127269090909091"
      ]
     },
     "execution_count": 57,
     "metadata": {},
     "output_type": "execute_result"
    }
   ],
   "source": [
    "df1[\"y\"].var()"
   ]
  },
  {
   "cell_type": "code",
   "execution_count": 58,
   "id": "591b582d-51c2-4f72-960f-03fe2526e75c",
   "metadata": {},
   "outputs": [
    {
     "data": {
      "text/plain": [
       "0.25    6.315\n",
       "0.50    7.580\n",
       "0.75    8.570\n",
       "Name: y, dtype: float64"
      ]
     },
     "execution_count": 58,
     "metadata": {},
     "output_type": "execute_result"
    }
   ],
   "source": [
    "df1['y'].quantile([0.25, 0.5, 0.75])"
   ]
  },
  {
   "cell_type": "code",
   "execution_count": 59,
   "id": "75efc891",
   "metadata": {},
   "outputs": [
    {
     "data": {
      "text/html": [
       "<div>\n",
       "<style scoped>\n",
       "    .dataframe tbody tr th:only-of-type {\n",
       "        vertical-align: middle;\n",
       "    }\n",
       "\n",
       "    .dataframe tbody tr th {\n",
       "        vertical-align: top;\n",
       "    }\n",
       "\n",
       "    .dataframe thead th {\n",
       "        text-align: right;\n",
       "    }\n",
       "</style>\n",
       "<table border=\"1\" class=\"dataframe\">\n",
       "  <thead>\n",
       "    <tr style=\"text-align: right;\">\n",
       "      <th></th>\n",
       "      <th>x</th>\n",
       "      <th>y</th>\n",
       "      <th>x_minus_mean</th>\n",
       "      <th>y_minus_mean</th>\n",
       "      <th>x_minus_mean2</th>\n",
       "      <th>y_minus_mean2</th>\n",
       "      <th>x-m*y-m</th>\n",
       "    </tr>\n",
       "  </thead>\n",
       "  <tbody>\n",
       "    <tr>\n",
       "      <th>0</th>\n",
       "      <td>10</td>\n",
       "      <td>8.04</td>\n",
       "      <td>1.0</td>\n",
       "      <td>0.539091</td>\n",
       "      <td>1.0</td>\n",
       "      <td>0.290619</td>\n",
       "      <td>0.539091</td>\n",
       "    </tr>\n",
       "    <tr>\n",
       "      <th>1</th>\n",
       "      <td>8</td>\n",
       "      <td>6.95</td>\n",
       "      <td>-1.0</td>\n",
       "      <td>-0.550909</td>\n",
       "      <td>1.0</td>\n",
       "      <td>0.303501</td>\n",
       "      <td>0.550909</td>\n",
       "    </tr>\n",
       "    <tr>\n",
       "      <th>2</th>\n",
       "      <td>13</td>\n",
       "      <td>7.58</td>\n",
       "      <td>4.0</td>\n",
       "      <td>0.079091</td>\n",
       "      <td>16.0</td>\n",
       "      <td>0.006255</td>\n",
       "      <td>0.316364</td>\n",
       "    </tr>\n",
       "    <tr>\n",
       "      <th>3</th>\n",
       "      <td>9</td>\n",
       "      <td>8.81</td>\n",
       "      <td>0.0</td>\n",
       "      <td>1.309091</td>\n",
       "      <td>0.0</td>\n",
       "      <td>1.713719</td>\n",
       "      <td>0.000000</td>\n",
       "    </tr>\n",
       "    <tr>\n",
       "      <th>4</th>\n",
       "      <td>11</td>\n",
       "      <td>8.33</td>\n",
       "      <td>2.0</td>\n",
       "      <td>0.829091</td>\n",
       "      <td>4.0</td>\n",
       "      <td>0.687392</td>\n",
       "      <td>1.658182</td>\n",
       "    </tr>\n",
       "    <tr>\n",
       "      <th>5</th>\n",
       "      <td>14</td>\n",
       "      <td>9.96</td>\n",
       "      <td>5.0</td>\n",
       "      <td>2.459091</td>\n",
       "      <td>25.0</td>\n",
       "      <td>6.047128</td>\n",
       "      <td>12.295455</td>\n",
       "    </tr>\n",
       "    <tr>\n",
       "      <th>6</th>\n",
       "      <td>6</td>\n",
       "      <td>7.24</td>\n",
       "      <td>-3.0</td>\n",
       "      <td>-0.260909</td>\n",
       "      <td>9.0</td>\n",
       "      <td>0.068074</td>\n",
       "      <td>0.782727</td>\n",
       "    </tr>\n",
       "    <tr>\n",
       "      <th>7</th>\n",
       "      <td>4</td>\n",
       "      <td>4.26</td>\n",
       "      <td>-5.0</td>\n",
       "      <td>-3.240909</td>\n",
       "      <td>25.0</td>\n",
       "      <td>10.503492</td>\n",
       "      <td>16.204545</td>\n",
       "    </tr>\n",
       "    <tr>\n",
       "      <th>8</th>\n",
       "      <td>12</td>\n",
       "      <td>10.84</td>\n",
       "      <td>3.0</td>\n",
       "      <td>3.339091</td>\n",
       "      <td>9.0</td>\n",
       "      <td>11.149528</td>\n",
       "      <td>10.017273</td>\n",
       "    </tr>\n",
       "    <tr>\n",
       "      <th>9</th>\n",
       "      <td>7</td>\n",
       "      <td>4.82</td>\n",
       "      <td>-2.0</td>\n",
       "      <td>-2.680909</td>\n",
       "      <td>4.0</td>\n",
       "      <td>7.187274</td>\n",
       "      <td>5.361818</td>\n",
       "    </tr>\n",
       "    <tr>\n",
       "      <th>10</th>\n",
       "      <td>5</td>\n",
       "      <td>5.68</td>\n",
       "      <td>-4.0</td>\n",
       "      <td>-1.820909</td>\n",
       "      <td>16.0</td>\n",
       "      <td>3.315710</td>\n",
       "      <td>7.283636</td>\n",
       "    </tr>\n",
       "  </tbody>\n",
       "</table>\n",
       "</div>"
      ],
      "text/plain": [
       "     x      y  x_minus_mean  y_minus_mean  x_minus_mean2  y_minus_mean2  \\\n",
       "0   10   8.04           1.0      0.539091            1.0       0.290619   \n",
       "1    8   6.95          -1.0     -0.550909            1.0       0.303501   \n",
       "2   13   7.58           4.0      0.079091           16.0       0.006255   \n",
       "3    9   8.81           0.0      1.309091            0.0       1.713719   \n",
       "4   11   8.33           2.0      0.829091            4.0       0.687392   \n",
       "5   14   9.96           5.0      2.459091           25.0       6.047128   \n",
       "6    6   7.24          -3.0     -0.260909            9.0       0.068074   \n",
       "7    4   4.26          -5.0     -3.240909           25.0      10.503492   \n",
       "8   12  10.84           3.0      3.339091            9.0      11.149528   \n",
       "9    7   4.82          -2.0     -2.680909            4.0       7.187274   \n",
       "10   5   5.68          -4.0     -1.820909           16.0       3.315710   \n",
       "\n",
       "      x-m*y-m  \n",
       "0    0.539091  \n",
       "1    0.550909  \n",
       "2    0.316364  \n",
       "3    0.000000  \n",
       "4    1.658182  \n",
       "5   12.295455  \n",
       "6    0.782727  \n",
       "7   16.204545  \n",
       "8   10.017273  \n",
       "9    5.361818  \n",
       "10   7.283636  "
      ]
     },
     "execution_count": 59,
     "metadata": {},
     "output_type": "execute_result"
    }
   ],
   "source": [
    "df1"
   ]
  },
  {
   "cell_type": "code",
   "execution_count": 60,
   "id": "76e669f4-5e0f-4bf2-a698-b2eaea1b3ec3",
   "metadata": {},
   "outputs": [
    {
     "data": {
      "text/html": [
       "<div>\n",
       "<style scoped>\n",
       "    .dataframe tbody tr th:only-of-type {\n",
       "        vertical-align: middle;\n",
       "    }\n",
       "\n",
       "    .dataframe tbody tr th {\n",
       "        vertical-align: top;\n",
       "    }\n",
       "\n",
       "    .dataframe thead th {\n",
       "        text-align: right;\n",
       "    }\n",
       "</style>\n",
       "<table border=\"1\" class=\"dataframe\">\n",
       "  <thead>\n",
       "    <tr style=\"text-align: right;\">\n",
       "      <th></th>\n",
       "      <th>x</th>\n",
       "      <th>y</th>\n",
       "    </tr>\n",
       "  </thead>\n",
       "  <tbody>\n",
       "    <tr>\n",
       "      <th>0</th>\n",
       "      <td>10</td>\n",
       "      <td>9.14</td>\n",
       "    </tr>\n",
       "    <tr>\n",
       "      <th>1</th>\n",
       "      <td>8</td>\n",
       "      <td>8.14</td>\n",
       "    </tr>\n",
       "    <tr>\n",
       "      <th>2</th>\n",
       "      <td>13</td>\n",
       "      <td>8.74</td>\n",
       "    </tr>\n",
       "    <tr>\n",
       "      <th>3</th>\n",
       "      <td>9</td>\n",
       "      <td>8.77</td>\n",
       "    </tr>\n",
       "    <tr>\n",
       "      <th>4</th>\n",
       "      <td>11</td>\n",
       "      <td>9.26</td>\n",
       "    </tr>\n",
       "    <tr>\n",
       "      <th>5</th>\n",
       "      <td>14</td>\n",
       "      <td>8.10</td>\n",
       "    </tr>\n",
       "    <tr>\n",
       "      <th>6</th>\n",
       "      <td>6</td>\n",
       "      <td>6.13</td>\n",
       "    </tr>\n",
       "    <tr>\n",
       "      <th>7</th>\n",
       "      <td>4</td>\n",
       "      <td>3.10</td>\n",
       "    </tr>\n",
       "    <tr>\n",
       "      <th>8</th>\n",
       "      <td>12</td>\n",
       "      <td>9.13</td>\n",
       "    </tr>\n",
       "    <tr>\n",
       "      <th>9</th>\n",
       "      <td>7</td>\n",
       "      <td>7.26</td>\n",
       "    </tr>\n",
       "    <tr>\n",
       "      <th>10</th>\n",
       "      <td>5</td>\n",
       "      <td>4.74</td>\n",
       "    </tr>\n",
       "  </tbody>\n",
       "</table>\n",
       "</div>"
      ],
      "text/plain": [
       "     x     y\n",
       "0   10  9.14\n",
       "1    8  8.14\n",
       "2   13  8.74\n",
       "3    9  8.77\n",
       "4   11  9.26\n",
       "5   14  8.10\n",
       "6    6  6.13\n",
       "7    4  3.10\n",
       "8   12  9.13\n",
       "9    7  7.26\n",
       "10   5  4.74"
      ]
     },
     "execution_count": 60,
     "metadata": {},
     "output_type": "execute_result"
    }
   ],
   "source": [
    "df2"
   ]
  },
  {
   "cell_type": "code",
   "execution_count": 61,
   "id": "eca56ac2",
   "metadata": {},
   "outputs": [],
   "source": [
    "mean_x2 = df2[\"x\"].mean()\n",
    "mean_y2 = df2[\"y\"].mean()"
   ]
  },
  {
   "cell_type": "code",
   "execution_count": 62,
   "id": "f196c423-a938-4d27-819e-958aa1f93db5",
   "metadata": {},
   "outputs": [
    {
     "name": "stdout",
     "output_type": "stream",
     "text": [
      "9.0\n"
     ]
    }
   ],
   "source": [
    "print(mean_x2)"
   ]
  },
  {
   "cell_type": "code",
   "execution_count": 63,
   "id": "861cfb8f-2173-44ad-a42b-5fed8de4739f",
   "metadata": {},
   "outputs": [
    {
     "name": "stdout",
     "output_type": "stream",
     "text": [
      "7.50090909090909\n"
     ]
    }
   ],
   "source": [
    "print(mean_y2)"
   ]
  },
  {
   "cell_type": "code",
   "execution_count": 64,
   "id": "c22e16c9-d8e3-4a78-ad38-37a28459077e",
   "metadata": {},
   "outputs": [],
   "source": [
    "df2[\"x_minus_mean\"] = df2[\"x\"] - df2[\"x\"].mean()\n",
    "df2[\"y_minus_mean\"] = df2[\"y\"] - df2[\"y\"].mean()\n",
    "df2[\"x_minus_mean2\"] = (df2[\"x_minus_mean\"]*df2[\"x_minus_mean\"])\n",
    "df2[\"y_minus_mean2\"] = (df2[\"y_minus_mean\"]*df2[\"y_minus_mean\"])\n",
    "df2[\"x-m*y-m\"] = (df2[\"x_minus_mean\"]*df2[\"y_minus_mean\"])"
   ]
  },
  {
   "cell_type": "code",
   "execution_count": 65,
   "id": "8f8440d3-f18d-47f8-99a4-64c38c2234b2",
   "metadata": {},
   "outputs": [
    {
     "data": {
      "text/plain": [
       "110.0"
      ]
     },
     "execution_count": 65,
     "metadata": {},
     "output_type": "execute_result"
    }
   ],
   "source": [
    "df2[\"x_minus_mean2\"].sum()"
   ]
  },
  {
   "cell_type": "code",
   "execution_count": 66,
   "id": "42b0be28-d877-46c0-a743-54969d6a6c54",
   "metadata": {},
   "outputs": [
    {
     "data": {
      "text/plain": [
       "41.27629090909091"
      ]
     },
     "execution_count": 66,
     "metadata": {},
     "output_type": "execute_result"
    }
   ],
   "source": [
    "df2[\"y_minus_mean2\"].sum()"
   ]
  },
  {
   "cell_type": "code",
   "execution_count": 67,
   "id": "077221c1-8de2-4f18-b082-f07e144d91ae",
   "metadata": {},
   "outputs": [
    {
     "data": {
      "text/plain": [
       "54.99999999999999"
      ]
     },
     "execution_count": 67,
     "metadata": {},
     "output_type": "execute_result"
    }
   ],
   "source": [
    "df2[\"x-m*y-m\"].sum()"
   ]
  },
  {
   "cell_type": "code",
   "execution_count": 68,
   "id": "320d5fa0-fd71-48e0-8ad6-f4ca6eeae3b4",
   "metadata": {},
   "outputs": [
    {
     "data": {
      "text/plain": [
       "0.25    6.695\n",
       "0.50    8.140\n",
       "0.75    8.950\n",
       "Name: y, dtype: float64"
      ]
     },
     "execution_count": 68,
     "metadata": {},
     "output_type": "execute_result"
    }
   ],
   "source": [
    "df2['y'].quantile([0.25, 0.5, 0.75])"
   ]
  },
  {
   "cell_type": "code",
   "execution_count": 69,
   "id": "cbf5183a-957a-4d2c-93ae-fd4ee4ddfd81",
   "metadata": {},
   "outputs": [],
   "source": [
    "df3[\"x_minus_mean\"] = df3[\"x\"] - df3[\"x\"].mean()\n",
    "df3[\"y_minus_mean\"] = df3[\"y\"] - df3[\"y\"].mean()\n",
    "df3[\"x_minus_mean2\"] = (df3[\"x_minus_mean\"]*df3[\"x_minus_mean\"])\n",
    "df3[\"y_minus_mean2\"] = (df3[\"y_minus_mean\"]*df3[\"y_minus_mean\"])\n",
    "df3[\"x-m*y-m\"] = (df3[\"x_minus_mean\"]*df3[\"y_minus_mean\"])"
   ]
  },
  {
   "cell_type": "code",
   "execution_count": 70,
   "id": "bcd4a8c5",
   "metadata": {},
   "outputs": [
    {
     "data": {
      "text/plain": [
       "7.5"
      ]
     },
     "execution_count": 70,
     "metadata": {},
     "output_type": "execute_result"
    }
   ],
   "source": [
    "df3[\"y\"].mean()"
   ]
  },
  {
   "cell_type": "code",
   "execution_count": 71,
   "id": "3871b1d2-57e8-4d02-bf82-f20618dc968d",
   "metadata": {},
   "outputs": [
    {
     "data": {
      "text/plain": [
       "110.0"
      ]
     },
     "execution_count": 71,
     "metadata": {},
     "output_type": "execute_result"
    }
   ],
   "source": [
    "df3[\"x_minus_mean2\"].sum()"
   ]
  },
  {
   "cell_type": "code",
   "execution_count": 72,
   "id": "d948cd15-df7c-4bc1-a8d3-7b95f66fc4f0",
   "metadata": {},
   "outputs": [
    {
     "data": {
      "text/plain": [
       "41.226200000000006"
      ]
     },
     "execution_count": 72,
     "metadata": {},
     "output_type": "execute_result"
    }
   ],
   "source": [
    "df3[\"y_minus_mean2\"].sum()"
   ]
  },
  {
   "cell_type": "code",
   "execution_count": 73,
   "id": "440eca8d-17f9-49b2-a8be-d04bf000b2fd",
   "metadata": {},
   "outputs": [
    {
     "data": {
      "text/plain": [
       "54.97"
      ]
     },
     "execution_count": 73,
     "metadata": {},
     "output_type": "execute_result"
    }
   ],
   "source": [
    "df3[\"x-m*y-m\"].sum()"
   ]
  },
  {
   "cell_type": "code",
   "execution_count": 74,
   "id": "d7775278-cc94-4f5c-b35f-34dd8debe81e",
   "metadata": {},
   "outputs": [
    {
     "data": {
      "text/plain": [
       "0.25    6.25\n",
       "0.50    7.11\n",
       "0.75    7.98\n",
       "Name: y, dtype: float64"
      ]
     },
     "execution_count": 74,
     "metadata": {},
     "output_type": "execute_result"
    }
   ],
   "source": [
    "df3['y'].quantile([0.25, 0.5, 0.75])"
   ]
  },
  {
   "cell_type": "code",
   "execution_count": 75,
   "id": "2d966a3f",
   "metadata": {},
   "outputs": [
    {
     "data": {
      "text/html": [
       "<div>\n",
       "<style scoped>\n",
       "    .dataframe tbody tr th:only-of-type {\n",
       "        vertical-align: middle;\n",
       "    }\n",
       "\n",
       "    .dataframe tbody tr th {\n",
       "        vertical-align: top;\n",
       "    }\n",
       "\n",
       "    .dataframe thead th {\n",
       "        text-align: right;\n",
       "    }\n",
       "</style>\n",
       "<table border=\"1\" class=\"dataframe\">\n",
       "  <thead>\n",
       "    <tr style=\"text-align: right;\">\n",
       "      <th></th>\n",
       "      <th>x</th>\n",
       "      <th>y</th>\n",
       "      <th>x_minus_mean</th>\n",
       "      <th>y_minus_mean</th>\n",
       "      <th>x_minus_mean2</th>\n",
       "      <th>y_minus_mean2</th>\n",
       "      <th>x-m*y-m</th>\n",
       "    </tr>\n",
       "  </thead>\n",
       "  <tbody>\n",
       "    <tr>\n",
       "      <th>0</th>\n",
       "      <td>10</td>\n",
       "      <td>7.46</td>\n",
       "      <td>1.0</td>\n",
       "      <td>-0.04</td>\n",
       "      <td>1.0</td>\n",
       "      <td>0.0016</td>\n",
       "      <td>-0.04</td>\n",
       "    </tr>\n",
       "    <tr>\n",
       "      <th>1</th>\n",
       "      <td>8</td>\n",
       "      <td>6.77</td>\n",
       "      <td>-1.0</td>\n",
       "      <td>-0.73</td>\n",
       "      <td>1.0</td>\n",
       "      <td>0.5329</td>\n",
       "      <td>0.73</td>\n",
       "    </tr>\n",
       "    <tr>\n",
       "      <th>2</th>\n",
       "      <td>13</td>\n",
       "      <td>12.74</td>\n",
       "      <td>4.0</td>\n",
       "      <td>5.24</td>\n",
       "      <td>16.0</td>\n",
       "      <td>27.4576</td>\n",
       "      <td>20.96</td>\n",
       "    </tr>\n",
       "    <tr>\n",
       "      <th>3</th>\n",
       "      <td>9</td>\n",
       "      <td>7.11</td>\n",
       "      <td>0.0</td>\n",
       "      <td>-0.39</td>\n",
       "      <td>0.0</td>\n",
       "      <td>0.1521</td>\n",
       "      <td>-0.00</td>\n",
       "    </tr>\n",
       "    <tr>\n",
       "      <th>4</th>\n",
       "      <td>11</td>\n",
       "      <td>7.81</td>\n",
       "      <td>2.0</td>\n",
       "      <td>0.31</td>\n",
       "      <td>4.0</td>\n",
       "      <td>0.0961</td>\n",
       "      <td>0.62</td>\n",
       "    </tr>\n",
       "    <tr>\n",
       "      <th>5</th>\n",
       "      <td>14</td>\n",
       "      <td>8.84</td>\n",
       "      <td>5.0</td>\n",
       "      <td>1.34</td>\n",
       "      <td>25.0</td>\n",
       "      <td>1.7956</td>\n",
       "      <td>6.70</td>\n",
       "    </tr>\n",
       "    <tr>\n",
       "      <th>6</th>\n",
       "      <td>6</td>\n",
       "      <td>6.08</td>\n",
       "      <td>-3.0</td>\n",
       "      <td>-1.42</td>\n",
       "      <td>9.0</td>\n",
       "      <td>2.0164</td>\n",
       "      <td>4.26</td>\n",
       "    </tr>\n",
       "    <tr>\n",
       "      <th>7</th>\n",
       "      <td>4</td>\n",
       "      <td>5.39</td>\n",
       "      <td>-5.0</td>\n",
       "      <td>-2.11</td>\n",
       "      <td>25.0</td>\n",
       "      <td>4.4521</td>\n",
       "      <td>10.55</td>\n",
       "    </tr>\n",
       "    <tr>\n",
       "      <th>8</th>\n",
       "      <td>12</td>\n",
       "      <td>8.15</td>\n",
       "      <td>3.0</td>\n",
       "      <td>0.65</td>\n",
       "      <td>9.0</td>\n",
       "      <td>0.4225</td>\n",
       "      <td>1.95</td>\n",
       "    </tr>\n",
       "    <tr>\n",
       "      <th>9</th>\n",
       "      <td>7</td>\n",
       "      <td>6.42</td>\n",
       "      <td>-2.0</td>\n",
       "      <td>-1.08</td>\n",
       "      <td>4.0</td>\n",
       "      <td>1.1664</td>\n",
       "      <td>2.16</td>\n",
       "    </tr>\n",
       "    <tr>\n",
       "      <th>10</th>\n",
       "      <td>5</td>\n",
       "      <td>5.73</td>\n",
       "      <td>-4.0</td>\n",
       "      <td>-1.77</td>\n",
       "      <td>16.0</td>\n",
       "      <td>3.1329</td>\n",
       "      <td>7.08</td>\n",
       "    </tr>\n",
       "  </tbody>\n",
       "</table>\n",
       "</div>"
      ],
      "text/plain": [
       "     x      y  x_minus_mean  y_minus_mean  x_minus_mean2  y_minus_mean2  \\\n",
       "0   10   7.46           1.0         -0.04            1.0         0.0016   \n",
       "1    8   6.77          -1.0         -0.73            1.0         0.5329   \n",
       "2   13  12.74           4.0          5.24           16.0        27.4576   \n",
       "3    9   7.11           0.0         -0.39            0.0         0.1521   \n",
       "4   11   7.81           2.0          0.31            4.0         0.0961   \n",
       "5   14   8.84           5.0          1.34           25.0         1.7956   \n",
       "6    6   6.08          -3.0         -1.42            9.0         2.0164   \n",
       "7    4   5.39          -5.0         -2.11           25.0         4.4521   \n",
       "8   12   8.15           3.0          0.65            9.0         0.4225   \n",
       "9    7   6.42          -2.0         -1.08            4.0         1.1664   \n",
       "10   5   5.73          -4.0         -1.77           16.0         3.1329   \n",
       "\n",
       "    x-m*y-m  \n",
       "0     -0.04  \n",
       "1      0.73  \n",
       "2     20.96  \n",
       "3     -0.00  \n",
       "4      0.62  \n",
       "5      6.70  \n",
       "6      4.26  \n",
       "7     10.55  \n",
       "8      1.95  \n",
       "9      2.16  \n",
       "10     7.08  "
      ]
     },
     "execution_count": 75,
     "metadata": {},
     "output_type": "execute_result"
    }
   ],
   "source": [
    "df3"
   ]
  },
  {
   "cell_type": "markdown",
   "id": "33f4db2f-42ac-45db-abcc-85d4f5c18172",
   "metadata": {},
   "source": [
    "# coorel"
   ]
  },
  {
   "cell_type": "code",
   "execution_count": 76,
   "id": "f320c906-e359-4968-93ae-624549cc5b9b",
   "metadata": {},
   "outputs": [],
   "source": [
    "df = pd.DataFrame()\n",
    "df[\"y1\"] = pd.DataFrame(df1[\"y\"])\n",
    "df[\"y2\"] = pd.DataFrame(df2[\"y\"])\n",
    "df[\"y3\"] = pd.DataFrame(df3[\"y\"])"
   ]
  },
  {
   "cell_type": "code",
   "execution_count": 77,
   "id": "9932ee09-f47a-4799-b3e4-f53c12e95d38",
   "metadata": {},
   "outputs": [
    {
     "data": {
      "text/plain": [
       "7.500909090909093"
      ]
     },
     "execution_count": 77,
     "metadata": {},
     "output_type": "execute_result"
    }
   ],
   "source": [
    "df[\"y1\"].mean()"
   ]
  },
  {
   "cell_type": "code",
   "execution_count": 78,
   "id": "6490c894-ab13-4af4-95ac-312a91087f4b",
   "metadata": {},
   "outputs": [
    {
     "data": {
      "text/plain": [
       "7.50090909090909"
      ]
     },
     "execution_count": 78,
     "metadata": {},
     "output_type": "execute_result"
    }
   ],
   "source": [
    "df[\"y2\"].mean()"
   ]
  },
  {
   "cell_type": "code",
   "execution_count": 79,
   "id": "e5c04935-fd92-4d70-b725-eed2c8a61e01",
   "metadata": {},
   "outputs": [
    {
     "data": {
      "text/plain": [
       "7.5"
      ]
     },
     "execution_count": 79,
     "metadata": {},
     "output_type": "execute_result"
    }
   ],
   "source": [
    "df[\"y3\"].mean()"
   ]
  },
  {
   "cell_type": "code",
   "execution_count": 80,
   "id": "ba6989c3-3c8c-4e10-bf0a-538f116454bb",
   "metadata": {},
   "outputs": [],
   "source": [
    "# df[\"y1_minus_mean\"] = df[\"y1\"] - df[\"y1\"].mean()\n",
    "# df[\"y2_minus_mean\"] = df[\"y2\"] - df[\"y2\"].mean()\n",
    "# df[\"y3_minus_mean\"] = df[\"y3\"] - df[\"y3\"].mean()"
   ]
  },
  {
   "cell_type": "code",
   "execution_count": 81,
   "id": "35ac6097-b0a0-423e-b06f-cad29098be1b",
   "metadata": {},
   "outputs": [],
   "source": [
    "# df[\"y1_minus_mean2\"] = df[\"y1_minus_mean\"]**2\n",
    "# df[\"y2_minus_mean2\"] = df[\"y2_minus_mean\"]**2\n",
    "# df[\"y3_minus_mean2\"] = df[\"y3_minus_mean\"]**2"
   ]
  },
  {
   "cell_type": "code",
   "execution_count": 82,
   "id": "d4bb26b7-f1e1-4ccc-8ee0-a65ee2c13589",
   "metadata": {},
   "outputs": [],
   "source": [
    "# df[\"y1-m * y2-m\"] = df[\"y1_minus_mean\"]*df[\"y2_minus_mean\"]\n",
    "# df[\"y1-m * y3-m\"] = df[\"y1_minus_mean\"]*df[\"y3_minus_mean\"]\n",
    "# df[\"y2-m * y2-m\"] = df[\"y2_minus_mean\"]*df[\"y3_minus_mean\"]"
   ]
  },
  {
   "cell_type": "code",
   "execution_count": 83,
   "id": "79bf6e86-c6c4-404c-ad4e-2a34e09df713",
   "metadata": {},
   "outputs": [],
   "source": [
    "# df[\"y1-m * y2-m\"].mean()"
   ]
  },
  {
   "cell_type": "code",
   "execution_count": 84,
   "id": "6f4e9ad8-6b43-4312-99b6-9801037c876f",
   "metadata": {},
   "outputs": [],
   "source": [
    "# df[\"y1-m * y2-m\"].mean()"
   ]
  },
  {
   "cell_type": "code",
   "execution_count": 85,
   "id": "3b6bbd17-4099-447a-b40b-d50842a60d4b",
   "metadata": {},
   "outputs": [],
   "source": [
    "# df[\"y1-m * y2-m\"].mean()"
   ]
  },
  {
   "cell_type": "code",
   "execution_count": 87,
   "id": "f01bbe7c-990f-43cf-bd5f-9a4fbb61bc6f",
   "metadata": {},
   "outputs": [],
   "source": [
    "df[\"y1^2\"] = df[\"y1\"]**2\n",
    "df[\"y2^2\"] = df[\"y2\"]**2\n",
    "df[\"y3^^2\"] = df[\"y3\"]**2"
   ]
  },
  {
   "cell_type": "code",
   "execution_count": 91,
   "id": "851565ce-3aad-410d-bfac-833bbed3337d",
   "metadata": {},
   "outputs": [
    {
     "data": {
      "text/plain": [
       "659.9762000000001"
      ]
     },
     "execution_count": 91,
     "metadata": {},
     "output_type": "execute_result"
    }
   ],
   "source": [
    "df[\"y1^2\"].sum()"
   ]
  },
  {
   "cell_type": "code",
   "execution_count": 92,
   "id": "081549b7-e74e-4377-9bc0-7ed1b954505c",
   "metadata": {},
   "outputs": [
    {
     "data": {
      "text/plain": [
       "660.1762999999999"
      ]
     },
     "execution_count": 92,
     "metadata": {},
     "output_type": "execute_result"
    }
   ],
   "source": [
    "df[\"y2^2\"].sum()"
   ]
  },
  {
   "cell_type": "code",
   "execution_count": 93,
   "id": "f1703faf",
   "metadata": {},
   "outputs": [
    {
     "data": {
      "text/plain": [
       "659.9762000000001"
      ]
     },
     "execution_count": 93,
     "metadata": {},
     "output_type": "execute_result"
    }
   ],
   "source": [
    "df[\"y3^^2\"].sum()"
   ]
  },
  {
   "cell_type": "code",
   "execution_count": 95,
   "id": "28ec73ac",
   "metadata": {},
   "outputs": [],
   "source": [
    "df[\"y1 * y2\"] = df[\"y1\"]*df[\"y2\"]\n",
    "df[\"y1 * y3\"] = df[\"y1\"]*df[\"y3\"]\n",
    "df[\"y2 * y3\"] = df[\"y2\"]*df[\"y3\"]"
   ]
  },
  {
   "cell_type": "code",
   "execution_count": 99,
   "id": "7c4154ed",
   "metadata": {},
   "outputs": [
    {
     "data": {
      "text/plain": [
       "649.8561"
      ]
     },
     "execution_count": 99,
     "metadata": {},
     "output_type": "execute_result"
    }
   ],
   "source": [
    "df[\"y1 * y2\"].sum()"
   ]
  },
  {
   "cell_type": "code",
   "execution_count": 100,
   "id": "25017103",
   "metadata": {},
   "outputs": [
    {
     "data": {
      "text/plain": [
       "638.1592999999999"
      ]
     },
     "execution_count": 100,
     "metadata": {},
     "output_type": "execute_result"
    }
   ],
   "source": [
    "df[\"y1 * y3\"].sum()"
   ]
  },
  {
   "cell_type": "code",
   "execution_count": 101,
   "id": "6886c8e6",
   "metadata": {},
   "outputs": [
    {
     "data": {
      "text/plain": [
       "643.0774"
      ]
     },
     "execution_count": 101,
     "metadata": {},
     "output_type": "execute_result"
    }
   ],
   "source": [
    "df[\"y2 * y3\"].sum()"
   ]
  },
  {
   "cell_type": "code",
   "execution_count": 102,
   "id": "422bf2de",
   "metadata": {},
   "outputs": [
    {
     "data": {
      "text/html": [
       "<div>\n",
       "<style scoped>\n",
       "    .dataframe tbody tr th:only-of-type {\n",
       "        vertical-align: middle;\n",
       "    }\n",
       "\n",
       "    .dataframe tbody tr th {\n",
       "        vertical-align: top;\n",
       "    }\n",
       "\n",
       "    .dataframe thead th {\n",
       "        text-align: right;\n",
       "    }\n",
       "</style>\n",
       "<table border=\"1\" class=\"dataframe\">\n",
       "  <thead>\n",
       "    <tr style=\"text-align: right;\">\n",
       "      <th></th>\n",
       "      <th>y1</th>\n",
       "      <th>y2</th>\n",
       "      <th>y3</th>\n",
       "      <th>y1^2</th>\n",
       "      <th>y2^2</th>\n",
       "      <th>y3^^2</th>\n",
       "      <th>y1 * y2</th>\n",
       "      <th>y1 * y3</th>\n",
       "      <th>y2 * y3</th>\n",
       "    </tr>\n",
       "  </thead>\n",
       "  <tbody>\n",
       "    <tr>\n",
       "      <th>0</th>\n",
       "      <td>8.04</td>\n",
       "      <td>9.14</td>\n",
       "      <td>7.46</td>\n",
       "      <td>64.6416</td>\n",
       "      <td>83.5396</td>\n",
       "      <td>55.6516</td>\n",
       "      <td>73.4856</td>\n",
       "      <td>59.9784</td>\n",
       "      <td>68.1844</td>\n",
       "    </tr>\n",
       "    <tr>\n",
       "      <th>1</th>\n",
       "      <td>6.95</td>\n",
       "      <td>8.14</td>\n",
       "      <td>6.77</td>\n",
       "      <td>48.3025</td>\n",
       "      <td>66.2596</td>\n",
       "      <td>45.8329</td>\n",
       "      <td>56.5730</td>\n",
       "      <td>47.0515</td>\n",
       "      <td>55.1078</td>\n",
       "    </tr>\n",
       "    <tr>\n",
       "      <th>2</th>\n",
       "      <td>7.58</td>\n",
       "      <td>8.74</td>\n",
       "      <td>12.74</td>\n",
       "      <td>57.4564</td>\n",
       "      <td>76.3876</td>\n",
       "      <td>162.3076</td>\n",
       "      <td>66.2492</td>\n",
       "      <td>96.5692</td>\n",
       "      <td>111.3476</td>\n",
       "    </tr>\n",
       "    <tr>\n",
       "      <th>3</th>\n",
       "      <td>8.81</td>\n",
       "      <td>8.77</td>\n",
       "      <td>7.11</td>\n",
       "      <td>77.6161</td>\n",
       "      <td>76.9129</td>\n",
       "      <td>50.5521</td>\n",
       "      <td>77.2637</td>\n",
       "      <td>62.6391</td>\n",
       "      <td>62.3547</td>\n",
       "    </tr>\n",
       "    <tr>\n",
       "      <th>4</th>\n",
       "      <td>8.33</td>\n",
       "      <td>9.26</td>\n",
       "      <td>7.81</td>\n",
       "      <td>69.3889</td>\n",
       "      <td>85.7476</td>\n",
       "      <td>60.9961</td>\n",
       "      <td>77.1358</td>\n",
       "      <td>65.0573</td>\n",
       "      <td>72.3206</td>\n",
       "    </tr>\n",
       "    <tr>\n",
       "      <th>5</th>\n",
       "      <td>9.96</td>\n",
       "      <td>8.10</td>\n",
       "      <td>8.84</td>\n",
       "      <td>99.2016</td>\n",
       "      <td>65.6100</td>\n",
       "      <td>78.1456</td>\n",
       "      <td>80.6760</td>\n",
       "      <td>88.0464</td>\n",
       "      <td>71.6040</td>\n",
       "    </tr>\n",
       "    <tr>\n",
       "      <th>6</th>\n",
       "      <td>7.24</td>\n",
       "      <td>6.13</td>\n",
       "      <td>6.08</td>\n",
       "      <td>52.4176</td>\n",
       "      <td>37.5769</td>\n",
       "      <td>36.9664</td>\n",
       "      <td>44.3812</td>\n",
       "      <td>44.0192</td>\n",
       "      <td>37.2704</td>\n",
       "    </tr>\n",
       "    <tr>\n",
       "      <th>7</th>\n",
       "      <td>4.26</td>\n",
       "      <td>3.10</td>\n",
       "      <td>5.39</td>\n",
       "      <td>18.1476</td>\n",
       "      <td>9.6100</td>\n",
       "      <td>29.0521</td>\n",
       "      <td>13.2060</td>\n",
       "      <td>22.9614</td>\n",
       "      <td>16.7090</td>\n",
       "    </tr>\n",
       "    <tr>\n",
       "      <th>8</th>\n",
       "      <td>10.84</td>\n",
       "      <td>9.13</td>\n",
       "      <td>8.15</td>\n",
       "      <td>117.5056</td>\n",
       "      <td>83.3569</td>\n",
       "      <td>66.4225</td>\n",
       "      <td>98.9692</td>\n",
       "      <td>88.3460</td>\n",
       "      <td>74.4095</td>\n",
       "    </tr>\n",
       "    <tr>\n",
       "      <th>9</th>\n",
       "      <td>4.82</td>\n",
       "      <td>7.26</td>\n",
       "      <td>6.42</td>\n",
       "      <td>23.2324</td>\n",
       "      <td>52.7076</td>\n",
       "      <td>41.2164</td>\n",
       "      <td>34.9932</td>\n",
       "      <td>30.9444</td>\n",
       "      <td>46.6092</td>\n",
       "    </tr>\n",
       "    <tr>\n",
       "      <th>10</th>\n",
       "      <td>5.68</td>\n",
       "      <td>4.74</td>\n",
       "      <td>5.73</td>\n",
       "      <td>32.2624</td>\n",
       "      <td>22.4676</td>\n",
       "      <td>32.8329</td>\n",
       "      <td>26.9232</td>\n",
       "      <td>32.5464</td>\n",
       "      <td>27.1602</td>\n",
       "    </tr>\n",
       "  </tbody>\n",
       "</table>\n",
       "</div>"
      ],
      "text/plain": [
       "       y1    y2     y3      y1^2     y2^2     y3^^2  y1 * y2  y1 * y3  \\\n",
       "0    8.04  9.14   7.46   64.6416  83.5396   55.6516  73.4856  59.9784   \n",
       "1    6.95  8.14   6.77   48.3025  66.2596   45.8329  56.5730  47.0515   \n",
       "2    7.58  8.74  12.74   57.4564  76.3876  162.3076  66.2492  96.5692   \n",
       "3    8.81  8.77   7.11   77.6161  76.9129   50.5521  77.2637  62.6391   \n",
       "4    8.33  9.26   7.81   69.3889  85.7476   60.9961  77.1358  65.0573   \n",
       "5    9.96  8.10   8.84   99.2016  65.6100   78.1456  80.6760  88.0464   \n",
       "6    7.24  6.13   6.08   52.4176  37.5769   36.9664  44.3812  44.0192   \n",
       "7    4.26  3.10   5.39   18.1476   9.6100   29.0521  13.2060  22.9614   \n",
       "8   10.84  9.13   8.15  117.5056  83.3569   66.4225  98.9692  88.3460   \n",
       "9    4.82  7.26   6.42   23.2324  52.7076   41.2164  34.9932  30.9444   \n",
       "10   5.68  4.74   5.73   32.2624  22.4676   32.8329  26.9232  32.5464   \n",
       "\n",
       "     y2 * y3  \n",
       "0    68.1844  \n",
       "1    55.1078  \n",
       "2   111.3476  \n",
       "3    62.3547  \n",
       "4    72.3206  \n",
       "5    71.6040  \n",
       "6    37.2704  \n",
       "7    16.7090  \n",
       "8    74.4095  \n",
       "9    46.6092  \n",
       "10   27.1602  "
      ]
     },
     "execution_count": 102,
     "metadata": {},
     "output_type": "execute_result"
    }
   ],
   "source": [
    "df"
   ]
  },
  {
   "cell_type": "code",
   "execution_count": null,
   "id": "396878a9",
   "metadata": {},
   "outputs": [],
   "source": []
  }
 ],
 "metadata": {
  "kernelspec": {
   "display_name": "Python 3 (ipykernel)",
   "language": "python",
   "name": "python3"
  },
  "language_info": {
   "codemirror_mode": {
    "name": "ipython",
    "version": 3
   },
   "file_extension": ".py",
   "mimetype": "text/x-python",
   "name": "python",
   "nbconvert_exporter": "python",
   "pygments_lexer": "ipython3",
   "version": "3.9.12"
  }
 },
 "nbformat": 4,
 "nbformat_minor": 5
}
